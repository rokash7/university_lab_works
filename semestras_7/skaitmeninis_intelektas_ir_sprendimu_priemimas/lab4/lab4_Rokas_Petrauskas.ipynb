{
 "cells": [
  {
   "cell_type": "code",
   "execution_count": 22,
   "metadata": {},
   "outputs": [],
   "source": [
    "import pandas as pd\n",
    "import numpy as np\n",
    "import tensorflow as tf\n",
    "from sklearn.metrics import confusion_matrix\n",
    "from tensorflow.keras.layers import Conv2D, MaxPooling2D, Dropout, Flatten, Dense"
   ]
  },
  {
   "cell_type": "code",
   "execution_count": 23,
   "metadata": {},
   "outputs": [],
   "source": [
    "train_data = pd.read_csv('data/train.csv')\n",
    "validate_data = pd.read_csv('data/validate.csv')\n",
    "test_data = pd.read_csv('data/test.csv')"
   ]
  },
  {
   "cell_type": "code",
   "execution_count": 24,
   "metadata": {},
   "outputs": [],
   "source": [
    "X_train = train_data.iloc[:, 1:].values.reshape(-1, 28, 28, 1) / 255\n",
    "y_train = pd.get_dummies(train_data.iloc[:, 0]).values\n",
    "X_val = validate_data.iloc[:, 1:].values.reshape(-1, 28, 28, 1) / 255\n",
    "y_val = pd.get_dummies(validate_data.iloc[:, 0]).values\n",
    "X_test = test_data.iloc[:, 1:].values.reshape(-1, 28, 28, 1) / 255\n",
    "y_test = pd.get_dummies(test_data.iloc[:, 0]).values"
   ]
  },
  {
   "cell_type": "code",
   "execution_count": 25,
   "metadata": {},
   "outputs": [],
   "source": [
    "model = tf.keras.models.Sequential()"
   ]
  },
  {
   "cell_type": "code",
   "execution_count": 26,
   "metadata": {},
   "outputs": [],
   "source": [
    "model.add(Conv2D(32, kernel_size=(5, 5), activation='relu', input_shape=(28, 28, 1))) #num of kernels #kernel size \n",
    "model.add(MaxPooling2D(pool_size=(2, 2))) #filter size\n",
    "model.add(Dropout(0.25)) #dropout probability\n",
    "model.add(Flatten())\n",
    "# model.add(Dense(128, activation='relu')) #activation function\n",
    "# model.add(Dropout(0.5)) #dropout probability\n",
    "model.add(Dense(10, activation='softmax')) #activation function"
   ]
  },
  {
   "cell_type": "code",
   "execution_count": 27,
   "metadata": {},
   "outputs": [],
   "source": [
    "optimizer = tf.keras.optimizers.Adadelta(learning_rate=0.01)  # learning rate #optimizer\n",
    "\n",
    "model.compile(loss=tf.keras.losses.categorical_crossentropy, # loss function\n",
    "              optimizer=optimizer,\n",
    "              metrics=['accuracy'])"
   ]
  },
  {
   "cell_type": "code",
   "execution_count": 28,
   "metadata": {},
   "outputs": [
    {
     "name": "stdout",
     "output_type": "stream",
     "text": [
      "Epoch 1/10\n",
      "438/438 [==============================] - 12s 25ms/step - loss: 2.0277 - accuracy: 0.4011 - val_loss: 1.6271 - val_accuracy: 0.5906\n",
      "Epoch 2/10\n",
      "438/438 [==============================] - 8s 19ms/step - loss: 1.2861 - accuracy: 0.6102 - val_loss: 1.0436 - val_accuracy: 0.6553\n",
      "Epoch 3/10\n",
      "438/438 [==============================] - 10s 22ms/step - loss: 0.9600 - accuracy: 0.6721 - val_loss: 0.8787 - val_accuracy: 0.7010\n",
      "Epoch 4/10\n",
      "438/438 [==============================] - 8s 18ms/step - loss: 0.8492 - accuracy: 0.7063 - val_loss: 0.8003 - val_accuracy: 0.7249\n",
      "Epoch 5/10\n",
      "438/438 [==============================] - 10s 23ms/step - loss: 0.7871 - accuracy: 0.7267 - val_loss: 0.7500 - val_accuracy: 0.7461\n",
      "Epoch 6/10\n",
      "438/438 [==============================] - 7s 17ms/step - loss: 0.7467 - accuracy: 0.7383 - val_loss: 0.7141 - val_accuracy: 0.7543\n",
      "Epoch 7/10\n",
      "438/438 [==============================] - 7s 17ms/step - loss: 0.7160 - accuracy: 0.7481 - val_loss: 0.6874 - val_accuracy: 0.7661\n",
      "Epoch 8/10\n",
      "438/438 [==============================] - 8s 17ms/step - loss: 0.6912 - accuracy: 0.7558 - val_loss: 0.6644 - val_accuracy: 0.7683\n",
      "Epoch 9/10\n",
      "438/438 [==============================] - 8s 18ms/step - loss: 0.6728 - accuracy: 0.7609 - val_loss: 0.6466 - val_accuracy: 0.7767\n",
      "Epoch 10/10\n",
      "438/438 [==============================] - 8s 17ms/step - loss: 0.6564 - accuracy: 0.7657 - val_loss: 0.6310 - val_accuracy: 0.7791\n"
     ]
    },
    {
     "data": {
      "text/plain": [
       "<keras.src.callbacks.History at 0x1b9b4bcb850>"
      ]
     },
     "execution_count": 28,
     "metadata": {},
     "output_type": "execute_result"
    }
   ],
   "source": [
    "model.fit(X_train, y_train,\n",
    "          batch_size=128, #batch size\n",
    "          epochs=10, #num of epochs\n",
    "          verbose=1,\n",
    "          validation_data=(X_val, y_val))"
   ]
  },
  {
   "cell_type": "code",
   "execution_count": 29,
   "metadata": {},
   "outputs": [
    {
     "name": "stdout",
     "output_type": "stream",
     "text": [
      "Test loss: 0.6307464241981506\n",
      "Test accuracy: 0.7801428437232971\n"
     ]
    }
   ],
   "source": [
    "score = model.evaluate(X_test, y_test, verbose=0)\n",
    "print('Test loss:', score[0])\n",
    "print('Test accuracy:', score[1])"
   ]
  },
  {
   "cell_type": "code",
   "execution_count": 30,
   "metadata": {},
   "outputs": [
    {
     "name": "stdout",
     "output_type": "stream",
     "text": [
      "219/219 [==============================] - 0s 2ms/step\n",
      "Confusion Matrix:\n",
      "[[544   7   8  83   5   0  44   1  10   0]\n",
      " [  0 646   9  24   7   0   8   0   1   0]\n",
      " [  4   2 425   1 160   0 104   0   9   0]\n",
      " [ 20  12   2 630  14   0  35   0   4   0]\n",
      " [  0   3 113  38 479   1  56   0   4   0]\n",
      " [  0   0   0   2   0 594   0  59   0  25]\n",
      " [143   3 130  51 116   1 235   0  17   0]\n",
      " [  0   0   0   0   0  35   0 602   3  44]\n",
      " [  2   0  11  20   3   5  21   2 626   3]\n",
      " [  0   0   0   0   1   5   0  47   1 680]]\n"
     ]
    }
   ],
   "source": [
    "y_pred = model.predict(X_test)\n",
    "confusion_matrix = confusion_matrix(y_test.argmax(axis=1), y_pred.argmax(axis=1))\n",
    "print('Confusion Matrix:')\n",
    "print(confusion_matrix)"
   ]
  }
 ],
 "metadata": {
  "kernelspec": {
   "display_name": "Python 3",
   "language": "python",
   "name": "python3"
  },
  "language_info": {
   "codemirror_mode": {
    "name": "ipython",
    "version": 3
   },
   "file_extension": ".py",
   "mimetype": "text/x-python",
   "name": "python",
   "nbconvert_exporter": "python",
   "pygments_lexer": "ipython3",
   "version": "3.11.0"
  }
 },
 "nbformat": 4,
 "nbformat_minor": 2
}
