{
 "cells": [
  {
   "cell_type": "code",
   "execution_count": 19,
   "metadata": {},
   "outputs": [],
   "source": [
    "import pandas as pd\n",
    "import numpy as np\n",
    "import tensorflow as tf\n",
    "from sklearn.metrics import confusion_matrix\n",
    "from tensorflow.keras.layers import Conv2D, MaxPooling2D, Dropout, Flatten, Dense, BatchNormalization"
   ]
  },
  {
   "cell_type": "code",
   "execution_count": 20,
   "metadata": {},
   "outputs": [],
   "source": [
    "train_data = pd.read_csv('data/train.csv')\n",
    "validate_data = pd.read_csv('data/validate.csv')\n",
    "test_data = pd.read_csv('data/test_mini.csv')"
   ]
  },
  {
   "cell_type": "code",
   "execution_count": 21,
   "metadata": {},
   "outputs": [],
   "source": [
    "X_train = train_data.iloc[:, 1:].values.reshape(-1, 28, 28, 1) / 255\n",
    "y_train = pd.get_dummies(train_data.iloc[:, 0]).values\n",
    "X_val = validate_data.iloc[:, 1:].values.reshape(-1, 28, 28, 1) / 255\n",
    "y_val = pd.get_dummies(validate_data.iloc[:, 0]).values\n",
    "X_test = test_data.iloc[:, 1:].values.reshape(-1, 28, 28, 1) / 255\n",
    "y_test = pd.get_dummies(test_data.iloc[:, 0]).values"
   ]
  },
  {
   "cell_type": "code",
   "execution_count": 22,
   "metadata": {},
   "outputs": [],
   "source": [
    "model = tf.keras.models.Sequential()"
   ]
  },
  {
   "cell_type": "code",
   "execution_count": 23,
   "metadata": {},
   "outputs": [],
   "source": [
    "model.add(Conv2D(64, kernel_size=(5, 5), activation='relu', input_shape=(28, 28, 1)))\n",
    "model.add(BatchNormalization())\n",
    "model.add(MaxPooling2D(pool_size=(2, 2)))\n",
    "model.add(Flatten())\n",
    "model.add(Dense(128, activation='relu'))\n",
    "model.add(Dense(10, activation='softmax'))"
   ]
  },
  {
   "cell_type": "code",
   "execution_count": 24,
   "metadata": {},
   "outputs": [],
   "source": [
    "optimizer = tf.keras.optimizers.Adam(learning_rate=0.01)  # learning rate #optimizer\n",
    "\n",
    "model.compile(loss=tf.keras.losses.categorical_crossentropy, # loss function\n",
    "              optimizer=optimizer,\n",
    "              metrics=['accuracy'])"
   ]
  },
  {
   "cell_type": "code",
   "execution_count": 25,
   "metadata": {},
   "outputs": [
    {
     "name": "stdout",
     "output_type": "stream",
     "text": [
      "Epoch 1/10\n",
      "438/438 [==============================] - 30s 68ms/step - loss: 0.5449 - accuracy: 0.8352 - val_loss: 0.4537 - val_accuracy: 0.8626\n",
      "Epoch 2/10\n",
      "438/438 [==============================] - 29s 67ms/step - loss: 0.3082 - accuracy: 0.8863 - val_loss: 0.3954 - val_accuracy: 0.8549\n",
      "Epoch 3/10\n",
      "438/438 [==============================] - 29s 66ms/step - loss: 0.2721 - accuracy: 0.8974 - val_loss: 0.3101 - val_accuracy: 0.8834\n",
      "Epoch 4/10\n",
      "438/438 [==============================] - 29s 66ms/step - loss: 0.2443 - accuracy: 0.9077 - val_loss: 0.2796 - val_accuracy: 0.9031\n",
      "Epoch 5/10\n",
      "438/438 [==============================] - 29s 67ms/step - loss: 0.2298 - accuracy: 0.9148 - val_loss: 0.2967 - val_accuracy: 0.8984\n",
      "Epoch 6/10\n",
      "438/438 [==============================] - 29s 67ms/step - loss: 0.2291 - accuracy: 0.9157 - val_loss: 0.3359 - val_accuracy: 0.8964\n",
      "Epoch 7/10\n",
      "438/438 [==============================] - 30s 68ms/step - loss: 0.2037 - accuracy: 0.9241 - val_loss: 0.2890 - val_accuracy: 0.9107\n",
      "Epoch 8/10\n",
      "438/438 [==============================] - 29s 67ms/step - loss: 0.2038 - accuracy: 0.9250 - val_loss: 0.3743 - val_accuracy: 0.8849\n",
      "Epoch 9/10\n",
      "438/438 [==============================] - 30s 68ms/step - loss: 0.2033 - accuracy: 0.9255 - val_loss: 0.3409 - val_accuracy: 0.8979\n",
      "Epoch 10/10\n",
      "438/438 [==============================] - 31s 70ms/step - loss: 0.1858 - accuracy: 0.9308 - val_loss: 0.3650 - val_accuracy: 0.9037\n"
     ]
    },
    {
     "data": {
      "text/plain": [
       "<keras.src.callbacks.History at 0x21fa59cee90>"
      ]
     },
     "execution_count": 25,
     "metadata": {},
     "output_type": "execute_result"
    }
   ],
   "source": [
    "model.fit(X_train, y_train,\n",
    "          batch_size=128, #batch size\n",
    "          epochs=10, #num of epochs\n",
    "          verbose=1,\n",
    "          validation_data=(X_val, y_val))"
   ]
  },
  {
   "cell_type": "code",
   "execution_count": 26,
   "metadata": {},
   "outputs": [
    {
     "name": "stdout",
     "output_type": "stream",
     "text": [
      "Test loss: 0.084785096347332\n",
      "Test accuracy: 0.9666666388511658\n"
     ]
    }
   ],
   "source": [
    "score = model.evaluate(X_test, y_test, verbose=0)\n",
    "print('Test loss:', score[0])\n",
    "print('Test accuracy:', score[1])"
   ]
  },
  {
   "cell_type": "code",
   "execution_count": 27,
   "metadata": {},
   "outputs": [],
   "source": [
    "# y_pred = model.predict(X_test)\n",
    "# confusion_matrix = confusion_matrix(y_test.argmax(axis=1), y_pred.argmax(axis=1))\n",
    "# print('Confusion Matrix:')\n",
    "# print(confusion_matrix)"
   ]
  },
  {
   "cell_type": "code",
   "execution_count": 28,
   "metadata": {},
   "outputs": [
    {
     "name": "stdout",
     "output_type": "stream",
     "text": [
      "1/1 [==============================] - 0s 138ms/step\n",
      "Tikroji klasė: 0, Prognozuojama klasė: 6\n",
      "Tikroji klasė: 2, Prognozuojama klasė: 2\n",
      "Tikroji klasė: 1, Prognozuojama klasė: 1\n",
      "Tikroji klasė: 3, Prognozuojama klasė: 3\n",
      "Tikroji klasė: 4, Prognozuojama klasė: 4\n",
      "Tikroji klasė: 5, Prognozuojama klasė: 5\n",
      "Tikroji klasė: 6, Prognozuojama klasė: 6\n",
      "Tikroji klasė: 7, Prognozuojama klasė: 7\n",
      "Tikroji klasė: 8, Prognozuojama klasė: 8\n",
      "Tikroji klasė: 9, Prognozuojama klasė: 9\n",
      "Tikroji klasė: 6, Prognozuojama klasė: 6\n",
      "Tikroji klasė: 9, Prognozuojama klasė: 9\n",
      "Tikroji klasė: 7, Prognozuojama klasė: 7\n",
      "Tikroji klasė: 8, Prognozuojama klasė: 8\n",
      "Tikroji klasė: 5, Prognozuojama klasė: 5\n",
      "Tikroji klasė: 0, Prognozuojama klasė: 0\n",
      "Tikroji klasė: 1, Prognozuojama klasė: 1\n",
      "Tikroji klasė: 4, Prognozuojama klasė: 4\n",
      "Tikroji klasė: 3, Prognozuojama klasė: 3\n",
      "Tikroji klasė: 2, Prognozuojama klasė: 2\n",
      "Tikroji klasė: 5, Prognozuojama klasė: 5\n",
      "Tikroji klasė: 4, Prognozuojama klasė: 4\n",
      "Tikroji klasė: 6, Prognozuojama klasė: 6\n",
      "Tikroji klasė: 3, Prognozuojama klasė: 3\n",
      "Tikroji klasė: 7, Prognozuojama klasė: 7\n",
      "Tikroji klasė: 2, Prognozuojama klasė: 2\n",
      "Tikroji klasė: 8, Prognozuojama klasė: 8\n",
      "Tikroji klasė: 1, Prognozuojama klasė: 1\n",
      "Tikroji klasė: 9, Prognozuojama klasė: 9\n",
      "Tikroji klasė: 0, Prognozuojama klasė: 0\n",
      "Confusion Matrix:\n",
      "[[2 0 0 0 0 0 1 0 0 0]\n",
      " [0 3 0 0 0 0 0 0 0 0]\n",
      " [0 0 3 0 0 0 0 0 0 0]\n",
      " [0 0 0 3 0 0 0 0 0 0]\n",
      " [0 0 0 0 3 0 0 0 0 0]\n",
      " [0 0 0 0 0 3 0 0 0 0]\n",
      " [0 0 0 0 0 0 3 0 0 0]\n",
      " [0 0 0 0 0 0 0 3 0 0]\n",
      " [0 0 0 0 0 0 0 0 3 0]\n",
      " [0 0 0 0 0 0 0 0 0 3]]\n"
     ]
    }
   ],
   "source": [
    "y_pred = model.predict(X_test)\n",
    "\n",
    "# Gaukite prognozuojamas klases\n",
    "y_pred_classes = y_pred.argmax(axis=1)\n",
    "\n",
    "# Gaukite tikrąsias klases\n",
    "y_true_classes = y_test.argmax(axis=1)\n",
    "\n",
    "# Atspausdinkite kiekvieną tikrąją klasę ir šalia esančią prognozuojamą klasę\n",
    "for i in range(len(y_true_classes)):\n",
    "    print(f\"Tikroji klasė: {y_true_classes[i]}, Prognozuojama klasė: {y_pred_classes[i]}\")\n",
    "\n",
    "confusion_matrix = confusion_matrix(y_test.argmax(axis=1), y_pred.argmax(axis=1))\n",
    "print('Confusion Matrix:')\n",
    "print(confusion_matrix)"
   ]
  }
 ],
 "metadata": {
  "kernelspec": {
   "display_name": "Python 3",
   "language": "python",
   "name": "python3"
  },
  "language_info": {
   "codemirror_mode": {
    "name": "ipython",
    "version": 3
   },
   "file_extension": ".py",
   "mimetype": "text/x-python",
   "name": "python",
   "nbconvert_exporter": "python",
   "pygments_lexer": "ipython3",
   "version": "3.11.0"
  }
 },
 "nbformat": 4,
 "nbformat_minor": 2
}
