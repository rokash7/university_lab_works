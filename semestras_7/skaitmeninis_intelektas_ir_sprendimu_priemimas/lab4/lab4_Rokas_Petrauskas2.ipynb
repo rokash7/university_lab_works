{
 "cells": [
  {
   "cell_type": "code",
   "execution_count": 10,
   "metadata": {},
   "outputs": [],
   "source": [
    "import pandas as pd\n",
    "import numpy as np\n",
    "import tensorflow as tf\n",
    "from sklearn.metrics import confusion_matrix\n",
    "from tensorflow.keras.layers import Conv2D, MaxPooling2D, Dropout, Flatten, Dense"
   ]
  },
  {
   "cell_type": "code",
   "execution_count": 11,
   "metadata": {},
   "outputs": [],
   "source": [
    "train_data = pd.read_csv('data/train.csv')\n",
    "validate_data = pd.read_csv('data/validate.csv')\n",
    "test_data = pd.read_csv('data/test.csv')"
   ]
  },
  {
   "cell_type": "code",
   "execution_count": 12,
   "metadata": {},
   "outputs": [],
   "source": [
    "X_train = train_data.iloc[:, 1:].values.reshape(-1, 28, 28, 1) / 255\n",
    "y_train = pd.get_dummies(train_data.iloc[:, 0]).values\n",
    "X_val = validate_data.iloc[:, 1:].values.reshape(-1, 28, 28, 1) / 255\n",
    "y_val = pd.get_dummies(validate_data.iloc[:, 0]).values\n",
    "X_test = test_data.iloc[:, 1:].values.reshape(-1, 28, 28, 1) / 255\n",
    "y_test = pd.get_dummies(test_data.iloc[:, 0]).values"
   ]
  },
  {
   "cell_type": "code",
   "execution_count": 13,
   "metadata": {},
   "outputs": [
    {
     "name": "stdout",
     "output_type": "stream",
     "text": [
      "WARNING:tensorflow:From c:\\Users\\Rokas\\AppData\\Local\\Programs\\Python\\Python311\\Lib\\site-packages\\keras\\src\\backend.py:873: The name tf.get_default_graph is deprecated. Please use tf.compat.v1.get_default_graph instead.\n",
      "\n"
     ]
    }
   ],
   "source": [
    "model = tf.keras.models.Sequential()"
   ]
  },
  {
   "cell_type": "code",
   "execution_count": 14,
   "metadata": {},
   "outputs": [
    {
     "name": "stdout",
     "output_type": "stream",
     "text": [
      "WARNING:tensorflow:From c:\\Users\\Rokas\\AppData\\Local\\Programs\\Python\\Python311\\Lib\\site-packages\\keras\\src\\layers\\pooling\\max_pooling2d.py:161: The name tf.nn.max_pool is deprecated. Please use tf.nn.max_pool2d instead.\n",
      "\n"
     ]
    }
   ],
   "source": [
    "model.add(Conv2D(32, kernel_size=(5, 5), activation='relu', input_shape=(28, 28, 1)))\n",
    "model.add(MaxPooling2D(pool_size=(2, 2)))\n",
    "model.add(Conv2D(64, kernel_size=(3, 3), activation='relu'))\n",
    "model.add(MaxPooling2D(pool_size=(2, 2)))\n",
    "model.add(Dropout(0.25))\n",
    "model.add(Flatten())\n",
    "model.add(Dense(128, activation='relu'))\n",
    "model.add(Dropout(0.5))\n",
    "model.add(Dense(10, activation='softmax'))"
   ]
  },
  {
   "cell_type": "code",
   "execution_count": 15,
   "metadata": {},
   "outputs": [],
   "source": [
    "optimizer = tf.keras.optimizers.Adadelta(learning_rate=0.01)  # learning rate #optimizer\n",
    "\n",
    "model.compile(loss=tf.keras.losses.categorical_crossentropy, # loss function\n",
    "              optimizer=optimizer,\n",
    "              metrics=['accuracy'])"
   ]
  },
  {
   "cell_type": "code",
   "execution_count": 16,
   "metadata": {},
   "outputs": [
    {
     "name": "stdout",
     "output_type": "stream",
     "text": [
      "Epoch 1/10\n",
      "WARNING:tensorflow:From c:\\Users\\Rokas\\AppData\\Local\\Programs\\Python\\Python311\\Lib\\site-packages\\keras\\src\\utils\\tf_utils.py:492: The name tf.ragged.RaggedTensorValue is deprecated. Please use tf.compat.v1.ragged.RaggedTensorValue instead.\n",
      "\n",
      "WARNING:tensorflow:From c:\\Users\\Rokas\\AppData\\Local\\Programs\\Python\\Python311\\Lib\\site-packages\\keras\\src\\engine\\base_layer_utils.py:384: The name tf.executing_eagerly_outside_functions is deprecated. Please use tf.compat.v1.executing_eagerly_outside_functions instead.\n",
      "\n",
      "438/438 [==============================] - 16s 31ms/step - loss: 2.2008 - accuracy: 0.2268 - val_loss: 1.9703 - val_accuracy: 0.4984\n",
      "Epoch 2/10\n",
      "438/438 [==============================] - 14s 31ms/step - loss: 1.7164 - accuracy: 0.4204 - val_loss: 1.2644 - val_accuracy: 0.6511\n",
      "Epoch 3/10\n",
      "438/438 [==============================] - 16s 36ms/step - loss: 1.3136 - accuracy: 0.5282 - val_loss: 1.0020 - val_accuracy: 0.6944\n",
      "Epoch 4/10\n",
      "438/438 [==============================] - 13s 29ms/step - loss: 1.1368 - accuracy: 0.5918 - val_loss: 0.8835 - val_accuracy: 0.7207\n",
      "Epoch 5/10\n",
      "438/438 [==============================] - 14s 32ms/step - loss: 1.0332 - accuracy: 0.6329 - val_loss: 0.8144 - val_accuracy: 0.7317\n",
      "Epoch 6/10\n",
      "438/438 [==============================] - 14s 31ms/step - loss: 0.9607 - accuracy: 0.6582 - val_loss: 0.7664 - val_accuracy: 0.7357\n",
      "Epoch 7/10\n",
      "438/438 [==============================] - 16s 36ms/step - loss: 0.9124 - accuracy: 0.6774 - val_loss: 0.7322 - val_accuracy: 0.7399\n",
      "Epoch 8/10\n",
      "438/438 [==============================] - 14s 33ms/step - loss: 0.8679 - accuracy: 0.6891 - val_loss: 0.7050 - val_accuracy: 0.7476\n",
      "Epoch 9/10\n",
      "438/438 [==============================] - 14s 31ms/step - loss: 0.8325 - accuracy: 0.7017 - val_loss: 0.6806 - val_accuracy: 0.7519\n",
      "Epoch 10/10\n",
      "438/438 [==============================] - 14s 31ms/step - loss: 0.8079 - accuracy: 0.7079 - val_loss: 0.6619 - val_accuracy: 0.7553\n"
     ]
    },
    {
     "data": {
      "text/plain": [
       "<keras.src.callbacks.History at 0x17e82bdff50>"
      ]
     },
     "execution_count": 16,
     "metadata": {},
     "output_type": "execute_result"
    }
   ],
   "source": [
    "model.fit(X_train, y_train,\n",
    "          batch_size=128, #batch size\n",
    "          epochs=10, #num of epochs\n",
    "          verbose=1,\n",
    "          validation_data=(X_val, y_val))"
   ]
  },
  {
   "cell_type": "code",
   "execution_count": 17,
   "metadata": {},
   "outputs": [
    {
     "name": "stdout",
     "output_type": "stream",
     "text": [
      "Test loss: 0.6668069958686829\n",
      "Test accuracy: 0.7571428418159485\n"
     ]
    }
   ],
   "source": [
    "score = model.evaluate(X_test, y_test, verbose=0)\n",
    "print('Test loss:', score[0])\n",
    "print('Test accuracy:', score[1])"
   ]
  },
  {
   "cell_type": "code",
   "execution_count": 18,
   "metadata": {},
   "outputs": [
    {
     "name": "stdout",
     "output_type": "stream",
     "text": [
      "219/219 [==============================] - 1s 3ms/step\n",
      "Confusion Matrix:\n",
      "[[547   8  15  76   9   4  34   1   8   0]\n",
      " [  0 648   5  28   3   1   9   0   1   0]\n",
      " [  8   0 439   3 204   5  37   1   8   0]\n",
      " [ 32  30   3 575  48   2  26   0   1   0]\n",
      " [  0   4 101  32 518   2  35   0   2   0]\n",
      " [  0   1   0   1   0 593   0  65   3  17]\n",
      " [149   6 199  37 180   9 106   0  10   0]\n",
      " [  0   0   0   0   0  50   0 584   2  48]\n",
      " [  7   6  10  12   6  21  17   1 611   2]\n",
      " [  0   0   0   1   1  10   0  43   0 679]]\n"
     ]
    }
   ],
   "source": [
    "y_pred = model.predict(X_test)\n",
    "confusion_matrix = confusion_matrix(y_test.argmax(axis=1), y_pred.argmax(axis=1))\n",
    "print('Confusion Matrix:')\n",
    "print(confusion_matrix)"
   ]
  }
 ],
 "metadata": {
  "kernelspec": {
   "display_name": "Python 3",
   "language": "python",
   "name": "python3"
  },
  "language_info": {
   "codemirror_mode": {
    "name": "ipython",
    "version": 3
   },
   "file_extension": ".py",
   "mimetype": "text/x-python",
   "name": "python",
   "nbconvert_exporter": "python",
   "pygments_lexer": "ipython3",
   "version": "3.11.0"
  }
 },
 "nbformat": 4,
 "nbformat_minor": 2
}
