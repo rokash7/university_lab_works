{
 "cells": [
  {
   "cell_type": "code",
   "execution_count": 19,
   "metadata": {},
   "outputs": [],
   "source": [
    "import pandas as pd\n",
    "import numpy as np\n",
    "import tensorflow as tf\n",
    "from sklearn.metrics import confusion_matrix\n",
    "from tensorflow.keras.layers import Conv2D, MaxPooling2D, Dropout, Flatten, Dense, BatchNormalization"
   ]
  },
  {
   "cell_type": "code",
   "execution_count": 20,
   "metadata": {},
   "outputs": [],
   "source": [
    "train_data = pd.read_csv('data/train.csv')\n",
    "validate_data = pd.read_csv('data/validate.csv')\n",
    "test_data = pd.read_csv('data/test.csv')"
   ]
  },
  {
   "cell_type": "code",
   "execution_count": 21,
   "metadata": {},
   "outputs": [],
   "source": [
    "X_train = train_data.iloc[:, 1:].values.reshape(-1, 28, 28, 1) / 255\n",
    "y_train = pd.get_dummies(train_data.iloc[:, 0]).values\n",
    "X_val = validate_data.iloc[:, 1:].values.reshape(-1, 28, 28, 1) / 255\n",
    "y_val = pd.get_dummies(validate_data.iloc[:, 0]).values\n",
    "X_test = test_data.iloc[:, 1:].values.reshape(-1, 28, 28, 1) / 255\n",
    "y_test = pd.get_dummies(test_data.iloc[:, 0]).values"
   ]
  },
  {
   "cell_type": "code",
   "execution_count": 22,
   "metadata": {},
   "outputs": [],
   "source": [
    "model = tf.keras.models.Sequential()"
   ]
  },
  {
   "cell_type": "code",
   "execution_count": 23,
   "metadata": {},
   "outputs": [],
   "source": [
    "model.add(Conv2D(64, kernel_size=(5, 5), activation='relu', input_shape=(28, 28, 1)))\n",
    "model.add(MaxPooling2D(pool_size=(2, 2)))\n",
    "model.add(Dropout(0.25))\n",
    "model.add(Flatten())\n",
    "model.add(Dense(128, activation='relu'))\n",
    "model.add(Dropout(0.5))\n",
    "model.add(Dense(10, activation='softmax'))"
   ]
  },
  {
   "cell_type": "code",
   "execution_count": 24,
   "metadata": {},
   "outputs": [],
   "source": [
    "optimizer = tf.keras.optimizers.Adadelta(learning_rate=0.01)  # learning rate #optimizer\n",
    "\n",
    "model.compile(loss=tf.keras.losses.categorical_crossentropy, # loss function\n",
    "              optimizer=optimizer,\n",
    "              metrics=['accuracy'])"
   ]
  },
  {
   "cell_type": "code",
   "execution_count": 25,
   "metadata": {},
   "outputs": [
    {
     "name": "stdout",
     "output_type": "stream",
     "text": [
      "Epoch 1/10\n",
      "438/438 [==============================] - 24s 55ms/step - loss: 0.6187 - accuracy: 0.7960 - val_loss: 0.3924 - val_accuracy: 0.8500\n",
      "Epoch 2/10\n",
      "438/438 [==============================] - 23s 52ms/step - loss: 0.4407 - accuracy: 0.8435 - val_loss: 0.3562 - val_accuracy: 0.8697\n",
      "Epoch 3/10\n",
      "438/438 [==============================] - 24s 54ms/step - loss: 0.4254 - accuracy: 0.8513 - val_loss: 0.3532 - val_accuracy: 0.8737\n",
      "Epoch 4/10\n",
      "438/438 [==============================] - 25s 57ms/step - loss: 0.4185 - accuracy: 0.8536 - val_loss: 0.3202 - val_accuracy: 0.8856\n",
      "Epoch 5/10\n",
      "438/438 [==============================] - 25s 56ms/step - loss: 0.4178 - accuracy: 0.8568 - val_loss: 0.3839 - val_accuracy: 0.8604\n",
      "Epoch 6/10\n",
      "438/438 [==============================] - 29s 67ms/step - loss: 0.4149 - accuracy: 0.8571 - val_loss: 0.3247 - val_accuracy: 0.8803\n",
      "Epoch 7/10\n",
      "438/438 [==============================] - 29s 67ms/step - loss: 0.4172 - accuracy: 0.8596 - val_loss: 0.3143 - val_accuracy: 0.8881\n",
      "Epoch 8/10\n",
      "438/438 [==============================] - 27s 62ms/step - loss: 0.4160 - accuracy: 0.8589 - val_loss: 0.3265 - val_accuracy: 0.8747\n",
      "Epoch 9/10\n",
      "438/438 [==============================] - 24s 56ms/step - loss: 0.4139 - accuracy: 0.8589 - val_loss: 0.3433 - val_accuracy: 0.8907\n",
      "Epoch 10/10\n",
      "438/438 [==============================] - 28s 64ms/step - loss: 0.4207 - accuracy: 0.8558 - val_loss: 0.3699 - val_accuracy: 0.8727\n"
     ]
    },
    {
     "data": {
      "text/plain": [
       "<keras.src.callbacks.History at 0x1acdd457d10>"
      ]
     },
     "execution_count": 25,
     "metadata": {},
     "output_type": "execute_result"
    }
   ],
   "source": [
    "model.fit(X_train, y_train,\n",
    "          batch_size=128, #batch size\n",
    "          epochs=10, #num of epochs\n",
    "          verbose=1,\n",
    "          validation_data=(X_val, y_val))"
   ]
  },
  {
   "cell_type": "code",
   "execution_count": 26,
   "metadata": {},
   "outputs": [
    {
     "name": "stdout",
     "output_type": "stream",
     "text": [
      "Test loss: 0.4023425877094269\n",
      "Test accuracy: 0.8642857074737549\n"
     ]
    }
   ],
   "source": [
    "score = model.evaluate(X_test, y_test, verbose=0)\n",
    "print('Test loss:', score[0])\n",
    "print('Test accuracy:', score[1])"
   ]
  },
  {
   "cell_type": "code",
   "execution_count": 27,
   "metadata": {},
   "outputs": [
    {
     "name": "stdout",
     "output_type": "stream",
     "text": [
      "219/219 [==============================] - 1s 4ms/step\n",
      "Confusion Matrix:\n",
      "[[587   3  16  15   3   0  74   1   3   0]\n",
      " [  1 679   3   9   1   0   2   0   0   0]\n",
      " [  3   1 567  10 100   0  24   0   0   0]\n",
      " [ 13   6   2 665  20   0  10   0   1   0]\n",
      " [  0   2  92  32 556   0  12   0   0   0]\n",
      " [  0   0   0   0   0 655   0  18   0   7]\n",
      " [106   0 130  23 102   0 333   0   2   0]\n",
      " [  0   0   0   0   0   7   0 665   0  12]\n",
      " [  1   0   9   3  12   4  10   3 651   0]\n",
      " [  0   0   1   1   1   1   1  37   0 692]]\n"
     ]
    }
   ],
   "source": [
    "y_pred = model.predict(X_test)\n",
    "confusion_matrix = confusion_matrix(y_test.argmax(axis=1), y_pred.argmax(axis=1))\n",
    "print('Confusion Matrix:')\n",
    "print(confusion_matrix)"
   ]
  }
 ],
 "metadata": {
  "kernelspec": {
   "display_name": "Python 3",
   "language": "python",
   "name": "python3"
  },
  "language_info": {
   "codemirror_mode": {
    "name": "ipython",
    "version": 3
   },
   "file_extension": ".py",
   "mimetype": "text/x-python",
   "name": "python",
   "nbconvert_exporter": "python",
   "pygments_lexer": "ipython3",
   "version": "3.11.0"
  }
 },
 "nbformat": 4,
 "nbformat_minor": 2
}
