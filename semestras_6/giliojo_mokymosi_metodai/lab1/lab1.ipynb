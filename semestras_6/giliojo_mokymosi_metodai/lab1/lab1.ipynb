{
 "cells": [
  {
   "attachments": {},
   "cell_type": "markdown",
   "metadata": {},
   "source": [
    "Rokas Petrauskas 1gr. 2pogr."
   ]
  },
  {
   "cell_type": "code",
   "execution_count": null,
   "metadata": {},
   "outputs": [],
   "source": [
    "import torch\n",
    "import torchvision\n",
    "import torchvision.datasets as datasets\n",
    "import torch.utils.data as data\n",
    "from torchvision import transforms, datasets, models\n",
    "import torchvision.transforms as transforms\n",
    "from sklearn.metrics import accuracy_score, precision_score, recall_score, f1_score\n",
    "import os\n",
    "from collections import defaultdict\n",
    "import numpy as np"
   ]
  },
  {
   "attachments": {},
   "cell_type": "markdown",
   "metadata": {},
   "source": [
    "priskiriam modeli prie GPU, jei unavailable: CPU"
   ]
  },
  {
   "cell_type": "code",
   "execution_count": null,
   "metadata": {},
   "outputs": [],
   "source": [
    "device = torch.device(\"cuda:0\" if torch.cuda.is_available() else \"cpu\")\n",
    "device"
   ]
  },
  {
   "attachments": {},
   "cell_type": "markdown",
   "metadata": {},
   "source": [
    "Modelio atsiuntimas"
   ]
  },
  {
   "cell_type": "code",
   "execution_count": null,
   "metadata": {},
   "outputs": [],
   "source": [
    "model = models.vgg16(pretrained = True).to(device)\n",
    "model.eval()"
   ]
  },
  {
   "attachments": {},
   "cell_type": "markdown",
   "metadata": {},
   "source": [
    "Naudojamos klases:\n",
    "847 tank\n",
    "895 airplane\n",
    "471 cannon\n",
    "\n",
    "Nuotrauku atsiuntimas:\n",
    "(uzkomentuota, kad leidziant viska nesiustu is naujo, LEIDZIANT NAUJAME IRENGINYJE PAKEISTI dest-dir ir viska atkomentuoti)"
   ]
  },
  {
   "cell_type": "code",
   "execution_count": null,
   "metadata": {},
   "outputs": [],
   "source": [
    "# from openimages.download import download_dataset\n",
    "# download_dataset (dest_dir = \"C:/Users/Rokas/Desktop/univer/gmm/lab1/src\", class_labels = [\"Tank\", \"Airplane\", \"Cannon\"], limit = 1000)"
   ]
  },
  {
   "attachments": {},
   "cell_type": "markdown",
   "metadata": {},
   "source": [
    "paruosiamos nuotraukos \n",
    "/ dataloader"
   ]
  },
  {
   "cell_type": "code",
   "execution_count": null,
   "metadata": {},
   "outputs": [],
   "source": [
    "transform = transforms.Compose([\n",
    "    transforms.Resize((224, 224)),\n",
    "    transforms.ToTensor(),\n",
    "    transforms.Normalize((0.485, 0.456, 0.406), (0.229, 0.224, 0.225)),\n",
    "])"
   ]
  },
  {
   "cell_type": "code",
   "execution_count": null,
   "metadata": {},
   "outputs": [],
   "source": [
    "data_dir = 'C:/Users/Rokas/Desktop/univer/gmm/lab1/src'\n",
    "val_dataset = datasets.ImageFolder(data_dir, transform = transform)"
   ]
  },
  {
   "cell_type": "code",
   "execution_count": null,
   "metadata": {},
   "outputs": [],
   "source": [
    "batch_size = 16\n",
    "data_loader = torch.utils.data.DataLoader(val_dataset, batch_size = batch_size, shuffle = False)"
   ]
  },
  {
   "attachments": {},
   "cell_type": "markdown",
   "metadata": {},
   "source": [
    "issaugojam key + value i zodyna"
   ]
  },
  {
   "cell_type": "code",
   "execution_count": null,
   "metadata": {},
   "outputs": [],
   "source": [
    "with open('imagenet_classes.txt', 'r') as f:\n",
    "    lines = f.read().splitlines()\n",
    "\n",
    "class_dict = {i+1: lines[i] for i in range(len(lines))}\n",
    "\n",
    "for key, value in class_dict.items():\n",
    "    print(key, value)"
   ]
  },
  {
   "attachments": {},
   "cell_type": "markdown",
   "metadata": {},
   "source": [
    "ground_truths issaugoja tikruju klasiu raktus"
   ]
  },
  {
   "cell_type": "code",
   "execution_count": null,
   "metadata": {},
   "outputs": [],
   "source": [
    "ground_truths = []\n",
    "class_dict = {'airplane': 895, 'cannon': 471, 'tank': 847}\n",
    "class_names = list(class_dict.keys())\n",
    "predictions = defaultdict(lambda: [0]*len(class_names))\n",
    "dir_path = 'src'\n",
    "parent_folders = []\n",
    "\n",
    "for root, dirs, files in os.walk(dir_path):\n",
    "    for file in files:\n",
    "        if file.endswith('.jpg') or file.endswith('.jpeg') or file.endswith('.png'):\n",
    "            parent_folder = os.path.basename(os.path.dirname(root))\n",
    "            parent_folders.append(parent_folder)\n",
    "\n",
    "gt = [class_dict[parent_folder] for parent_folder in parent_folders]\n",
    "ground_truths.extend(gt)\n",
    "\n",
    "print(len(ground_truths))\n",
    "print(ground_truths)\n",
    "\n"
   ]
  },
  {
   "attachments": {},
   "cell_type": "markdown",
   "metadata": {},
   "source": [
    "predicted_keys issaugoja predictintu klasiu raktus"
   ]
  },
  {
   "cell_type": "code",
   "execution_count": null,
   "metadata": {},
   "outputs": [],
   "source": [
    "predicted_keys = []\n",
    "predicted_probs = []\n",
    "predicted_binary = []\n",
    "confidence = []\n",
    "\n",
    "threshold = 0.00001\n",
    "\n",
    "for images, labels in data_loader:\n",
    "    # nuotraukos i GPU\n",
    "    if torch.cuda.is_available():\n",
    "        images = images.cuda()\n",
    "    \n",
    "    # predict\n",
    "    with torch.no_grad():\n",
    "        outputs = model(images)\n",
    "    \n",
    "    # kiekvieno img predictionas\n",
    "    probs = torch.nn.functional.softmax(outputs, dim=1)\n",
    "    _, predicted = torch.max(outputs, 1)\n",
    "    binary = (probs[:, 0] > threshold).int() ########\n",
    "    \n",
    "    # tensor to a list of strings\n",
    "    predicted_keys_batch = [str(class_id.item()) for class_id in predicted]\n",
    "    \n",
    "    # sukraunam i viena list\n",
    "    predicted_keys.extend(predicted_keys_batch)\n",
    "    predicted_probs.extend(probs.cpu().numpy())\n",
    "    predicted_binary.extend(binary.cpu().numpy()) ######\n",
    "\n",
    "    \n",
    "print(len(predicted_keys))\n",
    "print(predicted_keys)\n",
    "print(predicted_probs)\n",
    "print(predicted_binary)"
   ]
  },
  {
   "attachments": {},
   "cell_type": "markdown",
   "metadata": {},
   "source": [
    "softmax -> sigmoid "
   ]
  },
  {
   "cell_type": "code",
   "execution_count": null,
   "metadata": {},
   "outputs": [],
   "source": [
    "int_predicted_keys = list(map(int, predicted_keys))"
   ]
  },
  {
   "cell_type": "code",
   "execution_count": null,
   "metadata": {},
   "outputs": [],
   "source": [
    "def num_of_samples(source):\n",
    "    num_files = len([f for f in os.listdir(source) if os.path.isfile(os.path.join(source, f))])\n",
    "    return(num_files)"
   ]
  },
  {
   "attachments": {},
   "cell_type": "markdown",
   "metadata": {},
   "source": [
    "calculating correct predictions"
   ]
  },
  {
   "cell_type": "code",
   "execution_count": null,
   "metadata": {},
   "outputs": [],
   "source": [
    "num_of_correct_predictions = 0\n",
    "\n",
    "for i in range(len(int_predicted_keys)):\n",
    "    if ground_truths[i] == int_predicted_keys[i]:\n",
    "        num_of_correct_predictions += 1\n",
    "    \n",
    "print(num_of_correct_predictions)\n",
    "print(len(ground_truths))\n",
    "print(num_of_correct_predictions/len(ground_truths))"
   ]
  },
  {
   "attachments": {},
   "cell_type": "markdown",
   "metadata": {},
   "source": [
    "calculating metrics"
   ]
  },
  {
   "cell_type": "code",
   "execution_count": null,
   "metadata": {},
   "outputs": [],
   "source": [
    "klases = [[895, 'airplane', 0], [471, 'cannon', 0], [847, 'tank', 0]]"
   ]
  },
  {
   "cell_type": "code",
   "execution_count": null,
   "metadata": {},
   "outputs": [],
   "source": [
    "# klases[0][2] = num_of_samples('src/airplane/images')\n",
    "# klases[1][2] = num_of_samples('src/cannon/images')\n",
    "# klases[2][2] = num_of_samples('src/tank/images')\n",
    "\n",
    "# num_of_predictions = len(predicted_keys)\n",
    "\n",
    "# index = 0\n",
    "\n",
    "# def calculate_met(klase, index):\n",
    "#     gt = []\n",
    "#     print(klase)\n",
    "\n",
    "#     for i in range(index):\n",
    "#         gt.append(0)\n",
    "\n",
    "#     for i in range(num_of_predictions):\n",
    "#         if i <= klase[2]:\n",
    "#             gt.append(1)\n",
    "#         else:\n",
    "#             gt.append(0)\n",
    "\n",
    "#     index = index + klase[2]\n",
    "\n",
    "#     print(gt)\n",
    "#     print(index)\n",
    "#     return index\n",
    "\n",
    "# for i in range(3):\n",
    "#     index = calculate_met(klases[i], index)\n",
    "    \n"
   ]
  },
  {
   "attachments": {},
   "cell_type": "markdown",
   "metadata": {},
   "source": [
    "nepavyko issiaiskint ^ todel ihardcodinau zemiau. might fix if there is still time"
   ]
  },
  {
   "cell_type": "code",
   "execution_count": null,
   "metadata": {},
   "outputs": [],
   "source": [
    "gt_airplane = []\n",
    "gt_cannon = []\n",
    "gt_tank = []\n",
    "\n",
    "num_of_predictions = len(predicted_keys)\n",
    "\n",
    "for i in range(num_of_samples('src/airplane/images')):\n",
    "    gt_airplane.append(1)\n",
    "for i in range(num_of_predictions - num_of_samples('src/airplane/images')):\n",
    "    gt_airplane.append(0)\n",
    "print(gt_airplane)\n",
    "\n",
    "for i in range(num_of_samples('src/airplane/images')):\n",
    "    gt_cannon.append(0)\n",
    "for i in range(num_of_samples('src/cannon/images')):\n",
    "    gt_cannon.append(1)\n",
    "for i in range(num_of_samples('src/tank/images')):\n",
    "    gt_cannon.append(0)\n",
    "print(gt_cannon)\n",
    "\n",
    "for i in range(num_of_samples('src/airplane/images')):\n",
    "    gt_tank.append(0)\n",
    "for i in range(num_of_samples('src/cannon/images')):\n",
    "    gt_tank.append(0)\n",
    "for i in range(num_of_samples('src/tank/images')):\n",
    "    gt_tank.append(1)\n",
    "print(gt_tank)\n"
   ]
  },
  {
   "cell_type": "code",
   "execution_count": null,
   "metadata": {},
   "outputs": [],
   "source": [
    "TP = 0\n",
    "TN = 0\n",
    "FP = 0\n",
    "FN = 0\n",
    "\n",
    "for i in range(num_of_predictions):\n",
    "    if gt_airplane[i] == 1 and int_predicted_keys[i] == klases[0][0]:\n",
    "        TP += 1\n",
    "    elif gt_cannon[i] == 1 and int_predicted_keys[i] == klases[1][0]:\n",
    "        TP += 1\n",
    "    elif gt_tank[i] == 1 and int_predicted_keys[i] == klases[2][0]:\n",
    "        TP += 1\n",
    "\n",
    "for i in range(num_of_predictions):\n",
    "    if gt_airplane[i] == 0 and int_predicted_keys[i] != klases[0][0]:\n",
    "        TN += 1\n",
    "    elif gt_cannon[i] == 0 and int_predicted_keys[i] != klases[1][0]:\n",
    "        TN += 1\n",
    "    elif gt_tank[i] == 0 and int_predicted_keys[i] != klases[2][0]:\n",
    "        TN += 1\n",
    "    \n",
    "for i in range(num_of_predictions):\n",
    "    if gt_airplane[i] == 0 and int_predicted_keys[i] == klases[0][0]:\n",
    "        FP += 1\n",
    "    elif gt_cannon[i] == 0 and int_predicted_keys[i] == klases[1][0]:\n",
    "        FP += 1\n",
    "    elif gt_tank[i] == 0 and int_predicted_keys[i] == klases[2][0]:\n",
    "        FP += 1\n",
    "\n",
    "for i in range(num_of_predictions):\n",
    "    if gt_airplane[i] == 1 and int_predicted_keys[i] != klases[0][0]:\n",
    "        FN += 1\n",
    "    elif gt_cannon[i] == 1 and int_predicted_keys[i] != klases[1][0]:\n",
    "        FN += 1\n",
    "    elif gt_tank[i] == 1 and int_predicted_keys[i] != klases[2][0]:\n",
    "        FN += 1\n",
    "\n",
    "metrics = {}\n",
    "\n",
    "metrics['accuracy'] = (TP + TN) / (TP + FP + TN + FN)\n",
    "metrics['recall'] = TP / (TP + FN)\n",
    "metrics['precision'] = TP / (TP + FP)\n",
    "metrics['f1'] = 2 * (metrics['recall'] * metrics['precision']) / (metrics['recall'] + metrics['precision'])\n",
    "\n",
    "print(metrics)"
   ]
  }
 ],
 "metadata": {
  "kernelspec": {
   "display_name": "base",
   "language": "python",
   "name": "python3"
  },
  "language_info": {
   "codemirror_mode": {
    "name": "ipython",
    "version": 3
   },
   "file_extension": ".py",
   "mimetype": "text/x-python",
   "name": "python",
   "nbconvert_exporter": "python",
   "pygments_lexer": "ipython3",
   "version": "3.9.13"
  },
  "orig_nbformat": 4,
  "vscode": {
   "interpreter": {
    "hash": "ad2bdc8ecc057115af97d19610ffacc2b4e99fae6737bb82f5d7fb13d2f2c186"
   }
  }
 },
 "nbformat": 4,
 "nbformat_minor": 2
}
